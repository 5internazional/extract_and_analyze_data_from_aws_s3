{
 "cells": [
  {
   "cell_type": "code",
   "execution_count": 1,
   "metadata": {},
   "outputs": [],
   "source": [
    "date = '2018-03-26'\n"
   ]
  },
  {
   "cell_type": "code",
   "execution_count": 41,
   "metadata": {},
   "outputs": [
    {
     "name": "stdout",
     "output_type": "stream",
     "text": [
      "2018-04-04 20:07:23        136 2018-03-26_BINS_XETR00.csv\r\n",
      "2018-04-04 20:07:23        136 2018-03-26_BINS_XETR01.csv\r\n",
      "2018-04-04 20:07:23        136 2018-03-26_BINS_XETR02.csv\r\n",
      "2018-04-04 20:07:23        136 2018-03-26_BINS_XETR03.csv\r\n",
      "2018-04-04 20:07:23        251 2018-03-26_BINS_XETR04.csv\r\n",
      "2018-04-04 20:07:24        136 2018-03-26_BINS_XETR05.csv\r\n",
      "2018-04-04 20:07:23        136 2018-03-26_BINS_XETR06.csv\r\n",
      "2018-04-04 20:07:24     999016 2018-03-26_BINS_XETR07.csv\r\n",
      "2018-04-04 20:07:24     882055 2018-03-26_BINS_XETR08.csv\r\n",
      "2018-04-04 20:07:24     861920 2018-03-26_BINS_XETR09.csv\r\n",
      "2018-04-04 20:07:24     816397 2018-03-26_BINS_XETR10.csv\r\n",
      "2018-04-04 20:07:24     793111 2018-03-26_BINS_XETR11.csv\r\n",
      "2018-04-04 20:07:24     848602 2018-03-26_BINS_XETR12.csv\r\n",
      "2018-04-04 20:07:24    1094364 2018-03-26_BINS_XETR13.csv\r\n",
      "2018-04-04 20:07:24    1260469 2018-03-26_BINS_XETR14.csv\r\n",
      "2018-04-04 20:07:24     870234 2018-03-26_BINS_XETR15.csv\r\n",
      "2018-04-04 20:07:26        136 2018-03-26_BINS_XETR16.csv\r\n",
      "2018-04-04 20:07:26        136 2018-03-26_BINS_XETR17.csv\r\n",
      "2018-04-04 20:07:26        136 2018-03-26_BINS_XETR18.csv\r\n",
      "2018-04-04 20:07:26        367 2018-03-26_BINS_XETR19.csv\r\n",
      "2018-04-04 20:07:27        136 2018-03-26_BINS_XETR20.csv\r\n",
      "2018-04-04 20:07:27        136 2018-03-26_BINS_XETR21.csv\r\n",
      "2018-04-04 20:07:27        136 2018-03-26_BINS_XETR22.csv\r\n",
      "2018-04-04 20:07:27        136 2018-03-26_BINS_XETR23.csv\r\n"
     ]
    }
   ],
   "source": [
    "! aws s3 ls s3://deutsche-boerse-xetra-pds/{date}/ --no-sign-request \n"
   ]
  },
  {
   "cell_type": "code",
   "execution_count": 42,
   "metadata": {},
   "outputs": [],
   "source": [
    "import pandas as pd\n",
    "import numpy as np\n",
    "import glob, os\n",
    "from datetime import datetime\n",
    "import matplotlib as mpl\n",
    "import matplotlib.pyplot as plt\n",
    "%matplotlib inline\n",
    "import seaborn as sns\n",
    "sns.set(color_codes=True)\n",
    "\n",
    "\n",
    "\n"
   ]
  },
  {
   "cell_type": "code",
   "execution_count": 43,
   "metadata": {},
   "outputs": [
    {
     "name": "stdout",
     "output_type": "stream",
     "text": [
      "········\n"
     ]
    },
    {
     "data": {
      "text/plain": [
       "7"
      ]
     },
     "execution_count": 43,
     "metadata": {},
     "output_type": "execute_result"
    }
   ],
   "source": [
    "import getpass\n",
    "\n",
    "password = getpass.getpass()\n",
    "command = \"sudo -S mkdir -p /data/deutsche-boerse-xetra-pds/{date}\" \n",
    "os.popen(command, 'w').write(password+'\\n')"
   ]
  },
  {
   "cell_type": "code",
   "execution_count": 63,
   "metadata": {},
   "outputs": [
    {
     "name": "stdout",
     "output_type": "stream",
     "text": [
      "mkdir: /data/2018-03-26: Permission denied\r\n"
     ]
    }
   ],
   "source": [
    "! mkdir -m 777 -p /data/{date}"
   ]
  },
  {
   "cell_type": "code",
   "execution_count": 44,
   "metadata": {},
   "outputs": [
    {
     "name": "stderr",
     "output_type": "stream",
     "text": [
      "Password:"
     ]
    },
    {
     "name": "stdout",
     "output_type": "stream",
     "text": [
      "\r\n",
      "[Errno 13] Permission denied: '/data/deutsche-boerse-xetra-pds/2018-03-26'\r\n"
     ]
    }
   ],
   "source": [
    "! aws s3 sync s3://deutsche-boerse-xetra-pds/{date} /data/deutsche-boerse-xetra-pds/{date} --no-sign-request"
   ]
  },
  {
   "cell_type": "code",
   "execution_count": 2,
   "metadata": {},
   "outputs": [],
   "source": [
    "import boto3\n",
    "import botocore"
   ]
  },
  {
   "cell_type": "code",
   "execution_count": 3,
   "metadata": {},
   "outputs": [],
   "source": [
    "BUCKET_NAME = \"deutsche-boerse-xetra-pds\"\n",
    "EXAMPLE_KEY = \"2018-01-01/2018-01-01_BINS_XETR00.csv\"\n"
   ]
  },
  {
   "cell_type": "code",
   "execution_count": 4,
   "metadata": {},
   "outputs": [],
   "source": [
    "s3_client = boto3.client(\"s3\", config=botocore.config.Config(signature_version=botocore.UNSIGNED))"
   ]
  },
  {
   "cell_type": "code",
   "execution_count": 5,
   "metadata": {},
   "outputs": [
    {
     "data": {
      "text/plain": [
       "{'ResponseMetadata': {'RequestId': 'PF6FGRQT1V9R3CP8',\n",
       "  'HostId': 'Fzho/tgY+Du5dDldcg8ePDTNIUvvxljqMDlLoPfyyxyPlfP310r7JD+v7Lnq7byKLtvqQkUxX1Q=',\n",
       "  'HTTPStatusCode': 200,\n",
       "  'HTTPHeaders': {'x-amz-id-2': 'Fzho/tgY+Du5dDldcg8ePDTNIUvvxljqMDlLoPfyyxyPlfP310r7JD+v7Lnq7byKLtvqQkUxX1Q=',\n",
       "   'x-amz-request-id': 'PF6FGRQT1V9R3CP8',\n",
       "   'date': 'Wed, 24 Nov 2021 21:02:36 GMT',\n",
       "   'last-modified': 'Wed, 04 Apr 2018 18:03:45 GMT',\n",
       "   'etag': '\"e455bd5dd2f87598f58a87038aa01838\"',\n",
       "   'accept-ranges': 'bytes',\n",
       "   'content-type': 'text/csv',\n",
       "   'server': 'AmazonS3',\n",
       "   'content-length': '136'},\n",
       "  'RetryAttempts': 0},\n",
       " 'AcceptRanges': 'bytes',\n",
       " 'LastModified': datetime.datetime(2018, 4, 4, 18, 3, 45, tzinfo=tzutc()),\n",
       " 'ContentLength': 136,\n",
       " 'ETag': '\"e455bd5dd2f87598f58a87038aa01838\"',\n",
       " 'ContentType': 'text/csv',\n",
       " 'Metadata': {},\n",
       " 'Body': <botocore.response.StreamingBody at 0x109b77850>}"
      ]
     },
     "execution_count": 5,
     "metadata": {},
     "output_type": "execute_result"
    }
   ],
   "source": [
    "s3_client.get_object(Bucket=BUCKET_NAME, Key=EXAMPLE_KEY)"
   ]
  },
  {
   "cell_type": "code",
   "execution_count": 6,
   "metadata": {},
   "outputs": [],
   "source": [
    "s3_resource = boto3.resource(\"s3\", config=botocore.config.Config(signature_version=botocore.UNSIGNED)) "
   ]
  },
  {
   "cell_type": "code",
   "execution_count": 7,
   "metadata": {},
   "outputs": [
    {
     "ename": "AttributeError",
     "evalue": "'s3.ServiceResource' object has no attribute 'objects'",
     "output_type": "error",
     "traceback": [
      "\u001b[0;31m---------------------------------------------------------------------------\u001b[0m",
      "\u001b[0;31mAttributeError\u001b[0m                            Traceback (most recent call last)",
      "\u001b[0;32m/var/folders/cn/gldw6d952kn1wrnc551__2pc0000gn/T/ipykernel_6253/4073486728.py\u001b[0m in \u001b[0;36m<module>\u001b[0;34m\u001b[0m\n\u001b[0;32m----> 1\u001b[0;31m \u001b[0;34m[\u001b[0m\u001b[0mobj\u001b[0m \u001b[0;32mfor\u001b[0m \u001b[0mobj\u001b[0m \u001b[0;32min\u001b[0m \u001b[0ms3_resource\u001b[0m\u001b[0;34m.\u001b[0m\u001b[0mobjects\u001b[0m\u001b[0;34m.\u001b[0m\u001b[0mall\u001b[0m\u001b[0;34m(\u001b[0m\u001b[0;34m)\u001b[0m\u001b[0;34m.\u001b[0m\u001b[0mfilter\u001b[0m\u001b[0;34m(\u001b[0m\u001b[0mPrefix\u001b[0m\u001b[0;34m=\u001b[0m\u001b[0;34m\"2018-01-01\"\u001b[0m\u001b[0;34m)\u001b[0m\u001b[0;34m]\u001b[0m\u001b[0;34m\u001b[0m\u001b[0;34m\u001b[0m\u001b[0m\n\u001b[0m",
      "\u001b[0;31mAttributeError\u001b[0m: 's3.ServiceResource' object has no attribute 'objects'"
     ]
    }
   ],
   "source": [
    "lst = [obj for obj in Bucket.objects.all().filter(Prefix=\"2018-01-01\")]"
   ]
  },
  {
   "cell_type": "code",
   "execution_count": null,
   "metadata": {},
   "outputs": [],
   "source": []
  }
 ],
 "metadata": {
  "kernelspec": {
   "display_name": "Python 3 (ipykernel)",
   "language": "python",
   "name": "python3"
  },
  "language_info": {
   "codemirror_mode": {
    "name": "ipython",
    "version": 3
   },
   "file_extension": ".py",
   "mimetype": "text/x-python",
   "name": "python",
   "nbconvert_exporter": "python",
   "pygments_lexer": "ipython3",
   "version": "3.9.8"
  }
 },
 "nbformat": 4,
 "nbformat_minor": 1
}
